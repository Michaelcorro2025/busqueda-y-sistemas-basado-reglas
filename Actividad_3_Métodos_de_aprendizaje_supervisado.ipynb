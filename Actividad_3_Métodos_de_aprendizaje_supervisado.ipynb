{
  "nbformat": 4,
  "nbformat_minor": 0,
  "metadata": {
    "colab": {
      "provenance": [],
      "authorship_tag": "ABX9TyNqoCY4O8EJeLZA2q5CkesQ",
      "include_colab_link": true
    },
    "kernelspec": {
      "name": "python3",
      "display_name": "Python 3"
    },
    "language_info": {
      "name": "python"
    }
  },
  "cells": [
    {
      "cell_type": "markdown",
      "metadata": {
        "id": "view-in-github",
        "colab_type": "text"
      },
      "source": [
        "<a href=\"https://colab.research.google.com/github/Michaelcorro2025/busqueda-y-sistemas-basado-reglas/blob/main/Actividad_3_M%C3%A9todos_de_aprendizaje_supervisado.ipynb\" target=\"_parent\"><img src=\"https://colab.research.google.com/assets/colab-badge.svg\" alt=\"Open In Colab\"/></a>"
      ]
    },
    {
      "cell_type": "markdown",
      "source": [
        "El enfoque de aprendizaje supervisado en el ML utiliza conjuntos de datos etiquetados que entrenan algoritmos para clasificar datos o predecir resultados con precisión. El modelo utiliza los datos etiquetados para medir la relevancia de las diferentes características a fin de mejorar gradualmente el ajuste del modelo al resultado conocido. El aprendizaje supervisado se puede agrupar en dos tipos fundamentales:\n",
        "\n",
        "Clasificación: un problema de clasificación utiliza algoritmos para clasificar datos en segmentos particulares. Un ejemplo cotidiano de esto es un algoritmo que ayuda a rechazar correo no deseado en una bandeja de entrada de correo electrónico principal o un algoritmo que le permite a un usuario bloquear o restringir a alguien en las redes sociales.\n",
        "\n",
        "Regresión: este es un método estadístico y de ML que utiliza algoritmos para medir la relación entre una variable dependiente y una o más variables independientes. Con los modelos de regresión, el usuario puede hacer predicciones de causa y efecto basadas en diversos puntos de datos."
      ],
      "metadata": {
        "id": "uI-RfaeJoPS-"
      }
    },
    {
      "cell_type": "code",
      "execution_count": null,
      "metadata": {
        "colab": {
          "base_uri": "https://localhost:8080/"
        },
        "id": "dWzgCwY-pAOi",
        "outputId": "4d8546b4-70b7-4b4b-a45e-838ae8c5093a"
      },
      "outputs": [
        {
          "output_type": "stream",
          "name": "stdout",
          "text": [
            "Reporte Mse: 1.02\n"
          ]
        }
      ],
      "source": [
        "import pandas as pd\n",
        "import numpy as np\n",
        "from sklearn.model_selection import train_test_split\n",
        "from sklearn.linear_model import LinearRegression\n",
        "from sklearn.metrics import mean_squared_error\n",
        "\n",
        "# Crear un dataset\n",
        "np.random.seed(42)\n",
        "n_samples = 1000\n",
        "X1 = np.random.uniform(low=0, high=10, size=n_samples)\n",
        "X2 = np.random.uniform(low=0, high=5, size=n_samples)\n",
        "X3 = np.random.choice([0, 1], size=n_samples)\n",
        "y = 2 * X1 + 3 * X2 + 0.5 * X3 + np.random.normal(loc=0, scale=1, size=n_samples)\n",
        "\n",
        "data = pd.DataFrame({'Feature1': X1, 'Feature2': X2, 'Feature3': X3, 'TiempoViaje': y})\n",
        "\n",
        "# Divide los datos en características (X) y variable objetivo (y)\n",
        "X = data.drop(columns=['TiempoViaje'])  # Características\n",
        "y = data['TiempoViaje']  # Variable objetivo\n",
        "\n",
        "# Divide los datos en conjuntos de entrenamiento y prueba\n",
        "X_train, X_test, y_train, y_test = train_test_split(X, y, test_size=0.2, random_state=42)\n",
        "\n",
        "# Crea y entrena el modelo de regresión lineal\n",
        "model = LinearRegression()\n",
        "model.fit(X_train, y_train)\n",
        "\n",
        "# Evalúa el modelo\n",
        "y_pred = model.predict(X_test)\n",
        "mse = mean_squared_error(y_test, y_pred)\n",
        "print(f\"Reporte Mse: {mse:.2f}\")"
      ]
    }
  ]
}