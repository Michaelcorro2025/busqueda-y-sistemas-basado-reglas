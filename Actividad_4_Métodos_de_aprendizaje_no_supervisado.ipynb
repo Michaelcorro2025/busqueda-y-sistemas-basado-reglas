{
  "nbformat": 4,
  "nbformat_minor": 0,
  "metadata": {
    "colab": {
      "provenance": [],
      "authorship_tag": "ABX9TyMf230wN9cE4x+kXcD9bGhh",
      "include_colab_link": true
    },
    "kernelspec": {
      "name": "python3",
      "display_name": "Python 3"
    },
    "language_info": {
      "name": "python"
    }
  },
  "cells": [
    {
      "cell_type": "markdown",
      "metadata": {
        "id": "view-in-github",
        "colab_type": "text"
      },
      "source": [
        "<a href=\"https://colab.research.google.com/github/Michaelcorro2025/busqueda-y-sistemas-basado-reglas/blob/main/Actividad_4_M%C3%A9todos_de_aprendizaje_no_supervisado.ipynb\" target=\"_parent\"><img src=\"https://colab.research.google.com/assets/colab-badge.svg\" alt=\"Open In Colab\"/></a>"
      ]
    },
    {
      "cell_type": "markdown",
      "source": [
        "Con el aprendizaje no supervisado, se utilizan algoritmos de ML para examinar y agrupar los conjuntos de datos no etiquetados. Dichos algoritmos pueden descubrir patrones desconocidos en los datos sin supervisión humana. Existen tres categorías principales de algoritmos:\n",
        "\n",
        "Agrupación de clústeres: según las similitudes o diferencias, los datos no etiquetados se clasifican mediante técnicas de agrupación de clústeres."
      ],
      "metadata": {
        "id": "m3gEMRCdkfFd"
      }
    },
    {
      "cell_type": "code",
      "source": [
        "import pandas as pd\n",
        "from sklearn.cluster import KMeans\n",
        "\n",
        "# Creación del dataset\n",
        "data = {\n",
        "    \"Origen\": [\"A\", \"A\", \"A\", \"B\", \"B\", \"C\", \"C\", \"D\", \"D\"],\n",
        "    \"Destino\": [\"B\", \"C\", \"D\", \"C\", \"D\", \"D\", \"E\", \"E\", \"E\"],\n",
        "    \"Costo\": [5, 3, 8, 1, 4, 2, 6, 3, 5],\n",
        "}\n",
        "\n",
        "df = pd.DataFrame(data)\n",
        "\n",
        "# Guardar el DataFrame como un archivo CSV\n",
        "df.to_csv(\"transporte_masivo_dataset.csv\", index=False)\n",
        "\n",
        "# Cargar el dataset\n",
        "df = pd.read_csv(\"transporte_masivo_dataset.csv\")\n",
        "\n",
        "# Seleccionar características (origen y destino)\n",
        "X = df[[\"Origen\", \"Destino\"]]\n",
        "\n",
        "# Convertir características categóricas en variables numéricas\n",
        "X = pd.get_dummies(X)\n",
        "\n",
        "# Crear y entrenar el modelo K-Means\n",
        "kmeans = KMeans(n_clusters=2, random_state=42)\n",
        "kmeans.fit(X)\n",
        "\n",
        "# Obtener las etiquetas de los clusters\n",
        "labels = kmeans.labels_\n",
        "\n",
        "# Añadir las etiquetas al dataframe original\n",
        "df[\"cluster\"] = labels\n",
        "\n",
        "# Mostrar el resultado con los clusters asignados a cada conexión\n",
        "print(df)\n"
      ],
      "metadata": {
        "colab": {
          "base_uri": "https://localhost:8080/"
        },
        "id": "sgY8WAvDcqBg",
        "outputId": "df9fddd1-8c43-4706-b190-1f05d083d078"
      },
      "execution_count": 1,
      "outputs": [
        {
          "output_type": "stream",
          "name": "stdout",
          "text": [
            "  Origen Destino  Costo  cluster\n",
            "0      A       B      5        1\n",
            "1      A       C      3        1\n",
            "2      A       D      8        1\n",
            "3      B       C      1        1\n",
            "4      B       D      4        0\n",
            "5      C       D      2        0\n",
            "6      C       E      6        0\n",
            "7      D       E      3        0\n",
            "8      D       E      5        0\n"
          ]
        },
        {
          "output_type": "stream",
          "name": "stderr",
          "text": [
            "/usr/local/lib/python3.10/dist-packages/sklearn/cluster/_kmeans.py:870: FutureWarning: The default value of `n_init` will change from 10 to 'auto' in 1.4. Set the value of `n_init` explicitly to suppress the warning\n",
            "  warnings.warn(\n"
          ]
        }
      ]
    }
  ]
}