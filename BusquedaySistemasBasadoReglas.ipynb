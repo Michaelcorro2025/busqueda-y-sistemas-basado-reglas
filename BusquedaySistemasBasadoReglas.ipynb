{
  "nbformat": 4,
  "nbformat_minor": 0,
  "metadata": {
    "colab": {
      "provenance": [],
      "authorship_tag": "ABX9TyPIXvnkVjfHkEF2ddft/78G",
      "include_colab_link": true
    },
    "kernelspec": {
      "name": "python3",
      "display_name": "Python 3"
    },
    "language_info": {
      "name": "python"
    }
  },
  "cells": [
    {
      "cell_type": "markdown",
      "metadata": {
        "id": "view-in-github",
        "colab_type": "text"
      },
      "source": [
        "<a href=\"https://colab.research.google.com/github/Michaelcorro2025/busqueda-y-sistemas-basado-reglas/blob/main/BusquedaySistemasBasadoReglas.ipynb\" target=\"_parent\"><img src=\"https://colab.research.google.com/assets/colab-badge.svg\" alt=\"Open In Colab\"/></a>"
      ]
    },
    {
      "cell_type": "markdown",
      "source": [
        "**INTEGRANTES:** Carolina Torres Gómez; Michael Corro Carriazo"
      ],
      "metadata": {
        "id": "kWW0jzAE_ivs"
      }
    },
    {
      "cell_type": "markdown",
      "source": [
        "Importamos Librerias"
      ],
      "metadata": {
        "id": "NXEqxKYu8iJF"
      }
    },
    {
      "cell_type": "code",
      "execution_count": null,
      "metadata": {
        "id": "qZE-P1atw974",
        "colab": {
          "base_uri": "https://localhost:8080/"
        },
        "outputId": "e9bd0537-1d45-41e5-8d11-ae9d16a4fbf3"
      },
      "outputs": [
        {
          "output_type": "stream",
          "name": "stdout",
          "text": [
            "Epoch 1/5\n",
            "1/1 [==============================] - 3s 3s/step - loss: 1349.9155\n",
            "Epoch 2/5\n",
            "1/1 [==============================] - 0s 18ms/step - loss: 1348.2522\n",
            "Epoch 3/5\n",
            "1/1 [==============================] - 0s 17ms/step - loss: 1346.5649\n",
            "Epoch 4/5\n",
            "1/1 [==============================] - 0s 19ms/step - loss: 1344.8165\n",
            "Epoch 5/5\n",
            "1/1 [==============================] - 0s 20ms/step - loss: 1342.9712\n",
            "1/1 [==============================] - 1s 527ms/step\n",
            "El tiempo optimo de viaje desde Estacion_A hasta Estacion_B es aproximadamente [[0.14269486]] micutos.\n"
          ]
        }
      ],
      "source": [
        "import tensorflow as tf\n",
        "import numpy as np\n",
        "\n",
        "#Establecer las estaciones y lineas como lista\n",
        "estaciones = ['Estacion_A', 'Estacion_B', 'Estacion_C', 'Estacion_D', 'Estacion_E']\n",
        "lineas = ['Linea_1', 'Linea_2']\n",
        "\n",
        "#Crear un diccionario para mapear las estaciones y lineas a sus indices numericos\n",
        "estaciones_index = {estacion: idx for idx, estacion in enumerate(estaciones)}\n",
        "lineas_index = {linea: idx for idx, linea in enumerate(lineas)}\n",
        "\n",
        "#Datos de entrenamiento (ejemplo)\n",
        "X_train = [\n",
        "    [estaciones_index['Estacion_A'], estaciones_index['Estacion_B'], lineas_index['Linea_1']],\n",
        "    [estaciones_index['Estacion_B'], estaciones_index['Estacion_C'], lineas_index['Linea_1']],\n",
        "    [estaciones_index['Estacion_C'], estaciones_index['Estacion_D'], lineas_index['Linea_2']],\n",
        "    [estaciones_index['Estacion_D'], estaciones_index['Estacion_E'], lineas_index['Linea_2']],\n",
        "]\n",
        "y_train = [20, 30, 40, 50] # Tiempo de viajes en minutos\n",
        "\n",
        "#Modelo de I.A. Utilizado TensorFlow\n",
        "model = tf.keras.Sequential([\n",
        "    tf.keras.layers.Embedding(input_dim=len(estaciones) + len(lineas), output_dim=100),\n",
        "    tf.keras.layers.LSTM(128),\n",
        "    tf.keras.layers.Dense(1)\n",
        "])\n",
        "\n",
        "model.compile(optimizer='adam', loss='mean_squared_error')\n",
        "\n",
        "#Entrenamiento del modelo\n",
        "model.fit(np.array(X_train), np.array(y_train), epochs=5)\n",
        "\n",
        "#Funcion para encontrar la ruta optima utilizando modelo de I.A.\n",
        "def encontrar_ruta_optima_IA(origen, destino):\n",
        "  tiempo_predicho = model.predict(np.array([[origen, destino, 1]]))  #Linea_1 prederterminada, como una probabilidad\n",
        "  return tiempo_predicho\n",
        "\n",
        "#Ejemplo del Caso\n",
        "origen = estaciones_index['Estacion_A']\n",
        "destino = estaciones_index['Estacion_B']\n",
        "tiempo_viaje_optimo = encontrar_ruta_optima_IA(origen, destino)\n",
        "print(f\"El tiempo optimo de viaje desde {estaciones[origen]} hasta {estaciones[destino]} es aproximadamente {tiempo_viaje_optimo} micutos.\")"
      ]
    }
  ]
}